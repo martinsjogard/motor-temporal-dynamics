{
 "cells": [
  {
   "cell_type": "markdown",
   "id": "e1d52226",
   "metadata": {},
   "source": [
    "# Exploratory Data Analysis: Motor Learning & EEG/MEG Features"
   ]
  },
  {
   "cell_type": "code",
   "execution_count": null,
   "id": "0b18e598",
   "metadata": {},
   "outputs": [],
   "source": [
    "import pandas as pd\n",
    "import seaborn as sns\n",
    "import matplotlib.pyplot as plt\n",
    "\n",
    "df = pd.read_csv(\"../data/synthetic_motor_data.csv\")\n",
    "df.head()\n"
   ]
  },
  {
   "cell_type": "markdown",
   "id": "6dff97c8",
   "metadata": {},
   "source": [
    "## Variable Distributions"
   ]
  },
  {
   "cell_type": "code",
   "execution_count": null,
   "id": "11046d98",
   "metadata": {},
   "outputs": [],
   "source": [
    "fig, axes = plt.subplots(3, 3, figsize=(15, 12))\n",
    "features = ['behavior_score', 'theta_power', 'spindle_rate', 'so_sp_coupling',\n",
    "            'aec_mean', 'aec_variability', 'total_sleep', 'nrem_proportion', 'reaction_time']\n",
    "for i, feature in enumerate(features):\n",
    "    sns.histplot(df[feature], ax=axes[i//3, i%3], kde=True)\n",
    "    axes[i//3, i%3].set_title(feature)\n",
    "plt.tight_layout()\n",
    "plt.show()\n"
   ]
  },
  {
   "cell_type": "markdown",
   "id": "47eeaf0d",
   "metadata": {},
   "source": [
    "## Pairwise Correlations"
   ]
  },
  {
   "cell_type": "code",
   "execution_count": null,
   "id": "b4a775d6",
   "metadata": {},
   "outputs": [],
   "source": [
    "plt.figure(figsize=(10, 8))\n",
    "sns.heatmap(df[features].corr(), annot=True, fmt=\".2f\", cmap=\"coolwarm\")\n",
    "plt.title(\"Correlation Matrix\")\n",
    "plt.show()\n"
   ]
  },
  {
   "cell_type": "markdown",
   "id": "4d618144",
   "metadata": {},
   "source": [
    "## SHAP Summary Plots for ML Models"
   ]
  },
  {
   "cell_type": "code",
   "execution_count": null,
   "id": "e4d2e287",
   "metadata": {},
   "outputs": [],
   "source": [
    "from IPython.display import Image, display\n",
    "\n",
    "display(Image(\"../figures/rf_shap_summary.png\"))\n",
    "display(Image(\"../figures/xgb_shap_summary.png\"))\n"
   ]
  },
  {
   "cell_type": "markdown",
   "id": "a2799b3a",
   "metadata": {},
   "source": [
    "## Model Metrics Comparison"
   ]
  },
  {
   "cell_type": "code",
   "execution_count": null,
   "id": "5d1d5e35",
   "metadata": {},
   "outputs": [],
   "source": [
    "import os\n",
    "\n",
    "def load_metrics(model_name):\n",
    "    with open(f\"../logs/{model_name}_metrics.txt\") as f:\n",
    "        lines = f.read().splitlines()\n",
    "    return dict(line.split(\": \") for line in lines)\n",
    "\n",
    "models = [\"ridge\", \"lasso\", \"rf\", \"xgb\", \"dl\"]\n",
    "results = {model: load_metrics(model) for model in models}\n",
    "pd.DataFrame(results).T\n"
   ]
  },
  {
   "cell_type": "markdown",
   "id": "372d56c7",
   "metadata": {},
   "source": [
    "## Residuals from Mixed-Effects Model"
   ]
  },
  {
   "cell_type": "code",
   "execution_count": null,
   "id": "eccae43e",
   "metadata": {},
   "outputs": [],
   "source": [
    "from IPython.display import Image\n",
    "display(Image(\"../figures/mixed_model_residuals.png\"))"
   ]
  }
 ],
 "metadata": {},
 "nbformat": 4,
 "nbformat_minor": 5
}